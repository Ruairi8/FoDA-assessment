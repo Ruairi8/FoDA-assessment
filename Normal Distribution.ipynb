{
 "cells": [
  {
   "cell_type": "markdown",
   "metadata": {},
   "source": [
    "# Fundamentals of Data Analytics Project: Normal Distribution \n",
    "***"
   ]
  },
  {
   "cell_type": "markdown",
   "metadata": {},
   "source": [
    "Diagram of a normal distribution. SD, the standard deviation of 1.96 away from the mean, the diagram indicates 95% of all data points must be found within this region:"
   ]
  },
  {
   "cell_type": "markdown",
   "metadata": {},
   "source": [
    "<img src=\"http://critical-numbers.group.shef.ac.uk/glossary/images/normal_distribution_clip_image002.jpg\" alt=\"An image of the Normal Distribution resembling a bell-curve\" />"
   ]
  },
  {
   "cell_type": "markdown",
   "metadata": {},
   "source": [
    "Probability density function formula:<br><center> $f(x)$ = $\\frac{1}{\\sqrt{\\sigma^2 2 \\pi}} e^{ -\\frac{1}{2}(\\frac{x - \\mu}{\\sigma})^2 }$ </centre>\n",
    "\n",
    ",where $\\mu$ is the mean and $\\sigma$ is the standard deviation."
   ]
  },
  {
   "cell_type": "markdown",
   "metadata": {},
   "source": [
    "Standard normal distribution formula: <br><center>$f(x) = \\frac{e^\\frac{-x^2}{2}}{\\sqrt{2\\pi}}$</center>\n",
    ", where $\\mu = 0$ and $\\sigma = 1$"
   ]
  },
  {
   "cell_type": "markdown",
   "metadata": {},
   "source": [
    "<img src=\"https://cdn.scribbr.com/wp-content/uploads/2020/10/standard-normal-distribution-1024x633.png\" alt=\"standard normal distribution image\"/>"
   ]
  },
  {
   "cell_type": "markdown",
   "metadata": {},
   "source": [
    "The normal distribution is also known as the Gaussian distribution is a continuous probability distribution for a real-valued random variable. Many natural distributions from nature are normal distribution, such as height, weight, blood pressure etc. The mean, median and mode are all the same. It has the shape of what is known as the \"bell-shaped curve\", centred around the mean of the distribution. The median and mode take the same value as the mean in a normal distribution."
   ]
  },
  {
   "cell_type": "markdown",
   "metadata": {},
   "source": [
    "The cumulative probability function gives the probability of observing a value less than or equal to x. It is the proportion, P of a population, X, which is less than or equal to a value, x. x may be any number between minus infinity and plus infinity. P = P(X <= x)  The proportion greater than x is '1 - P'. 1 - P = P(X > x). \"The cumulative standard normal distribution is the probability that a number, arising from a standard normal distribution, lies between minus infinity and x.\" [1]\n",
    "All probability values must lie between or including 0 and 1, where 0 means there is no chance, and 1 means that something is certain to occur. ${\\displaystyle F:\\mathbb {R} \\rightarrow [0,1]}$ satisfying ${\\displaystyle \\lim _{x\\rightarrow -\\infty }F(x)=0}$ and ${\\displaystyle \\lim _{x\\rightarrow \\infty }F(x)=1}$.[2]"
   ]
  },
  {
   "cell_type": "code",
   "execution_count": null,
   "metadata": {},
   "outputs": [],
   "source": []
  },
  {
   "cell_type": "code",
   "execution_count": null,
   "metadata": {},
   "outputs": [],
   "source": []
  },
  {
   "cell_type": "code",
   "execution_count": null,
   "metadata": {},
   "outputs": [],
   "source": []
  },
  {
   "cell_type": "code",
   "execution_count": null,
   "metadata": {},
   "outputs": [],
   "source": []
  },
  {
   "cell_type": "code",
   "execution_count": null,
   "metadata": {},
   "outputs": [],
   "source": []
  },
  {
   "cell_type": "code",
   "execution_count": null,
   "metadata": {},
   "outputs": [],
   "source": []
  },
  {
   "cell_type": "code",
   "execution_count": null,
   "metadata": {},
   "outputs": [],
   "source": []
  },
  {
   "cell_type": "code",
   "execution_count": null,
   "metadata": {},
   "outputs": [],
   "source": []
  },
  {
   "cell_type": "markdown",
   "metadata": {},
   "source": [
    "# References: "
   ]
  },
  {
   "cell_type": "markdown",
   "metadata": {},
   "source": [
    "[1] https://influentialpoints.com/Training/normal_distribution.htm <br>\n",
    "[2] https://en.wikipedia.org/wiki/Cumulative_distribution_function"
   ]
  },
  {
   "cell_type": "code",
   "execution_count": null,
   "metadata": {},
   "outputs": [],
   "source": []
  }
 ],
 "metadata": {
  "kernelspec": {
   "display_name": "Python 3",
   "language": "python",
   "name": "python3"
  },
  "language_info": {
   "codemirror_mode": {
    "name": "ipython",
    "version": 3
   },
   "file_extension": ".py",
   "mimetype": "text/x-python",
   "name": "python",
   "nbconvert_exporter": "python",
   "pygments_lexer": "ipython3",
   "version": "3.8.3"
  }
 },
 "nbformat": 4,
 "nbformat_minor": 4
}
