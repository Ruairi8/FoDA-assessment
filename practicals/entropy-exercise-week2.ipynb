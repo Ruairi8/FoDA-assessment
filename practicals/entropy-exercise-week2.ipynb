{
 "cells": [
  {
   "cell_type": "markdown",
   "metadata": {},
   "source": [
    "Exercise week2: Explain why the log of zero is undefined."
   ]
  },
  {
   "cell_type": "markdown",
   "metadata": {},
   "source": [
    "Logarithm is the opposite of exponential.There is no number that one can raise to some power that will equal zero, so the answer can't be defined in maths terms and hence is undefined. Considering all the numbers from minus infinity to infinity, and also infinitesimal fractions, no matter what power these are raised to none will equal zero."
   ]
  }
 ],
 "metadata": {
  "kernelspec": {
   "display_name": "Python 3",
   "language": "python",
   "name": "python3"
  },
  "language_info": {
   "codemirror_mode": {
    "name": "ipython",
    "version": 3
   },
   "file_extension": ".py",
   "mimetype": "text/x-python",
   "name": "python",
   "nbconvert_exporter": "python",
   "pygments_lexer": "ipython3",
   "version": "3.8.3"
  }
 },
 "nbformat": 4,
 "nbformat_minor": 4
}
