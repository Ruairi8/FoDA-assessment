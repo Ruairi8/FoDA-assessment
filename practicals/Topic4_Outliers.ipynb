{
 "cells": [
  {
   "cell_type": "markdown",
   "metadata": {},
   "source": [
    "# <center>Outliers</center>\n",
    "---"
   ]
  },
  {
   "cell_type": "markdown",
   "metadata": {},
   "source": [
    "Outliers are data points which are highly unusual or unexpected in a dataset. On a graph or plot, these points are found situated on their own away from where the vast majority of the other data points are found."
   ]
  },
  {
   "cell_type": "markdown",
   "metadata": {},
   "source": [
    "Outliers have been identified in statistics and machine learning as unfairly skewing results of analysis. It is prudent to eliminate the effect of outliers in order to achieve accurate results in an analysis of a dataset."
   ]
  },
  {
   "cell_type": "markdown",
   "metadata": {},
   "source": [
    "## Exercise 1:"
   ]
  },
  {
   "cell_type": "markdown",
   "metadata": {},
   "source": [
    "Create box plots on a single set of axes for all five experiments in the morley data set."
   ]
  },
  {
   "cell_type": "code",
   "execution_count": 24,
   "metadata": {},
   "outputs": [
    {
     "data": {
      "text/plain": [
       "5.635104230931312"
      ]
     },
     "execution_count": 24,
     "metadata": {},
     "output_type": "execute_result"
    }
   ],
   "source": [
    "np.random.normal(0.0, 1.0, 20000000).max()"
   ]
  },
  {
   "cell_type": "code",
   "execution_count": 27,
   "metadata": {},
   "outputs": [
    {
     "data": {
      "text/plain": [
       "array([[1.00e+00, 1.00e+00, 8.50e+02],\n",
       "       [1.00e+00, 2.00e+00, 7.40e+02],\n",
       "       [1.00e+00, 3.00e+00, 9.00e+02],\n",
       "       [1.00e+00, 4.00e+00, 1.07e+03],\n",
       "       [1.00e+00, 5.00e+00, 9.30e+02],\n",
       "       [1.00e+00, 6.00e+00, 8.50e+02],\n",
       "       [1.00e+00, 7.00e+00, 9.50e+02],\n",
       "       [1.00e+00, 8.00e+00, 9.80e+02],\n",
       "       [1.00e+00, 9.00e+00, 9.80e+02],\n",
       "       [1.00e+00, 1.00e+01, 8.80e+02],\n",
       "       [1.00e+00, 1.10e+01, 1.00e+03],\n",
       "       [1.00e+00, 1.20e+01, 9.80e+02],\n",
       "       [1.00e+00, 1.30e+01, 9.30e+02],\n",
       "       [1.00e+00, 1.40e+01, 6.50e+02],\n",
       "       [1.00e+00, 1.50e+01, 7.60e+02],\n",
       "       [1.00e+00, 1.60e+01, 8.10e+02],\n",
       "       [1.00e+00, 1.70e+01, 1.00e+03],\n",
       "       [1.00e+00, 1.80e+01, 1.00e+03],\n",
       "       [1.00e+00, 1.90e+01, 9.60e+02],\n",
       "       [1.00e+00, 2.00e+01, 9.60e+02],\n",
       "       [2.00e+00, 1.00e+00, 9.60e+02],\n",
       "       [2.00e+00, 2.00e+00, 9.40e+02],\n",
       "       [2.00e+00, 3.00e+00, 9.60e+02],\n",
       "       [2.00e+00, 4.00e+00, 9.40e+02],\n",
       "       [2.00e+00, 5.00e+00, 8.80e+02],\n",
       "       [2.00e+00, 6.00e+00, 8.00e+02],\n",
       "       [2.00e+00, 7.00e+00, 8.50e+02],\n",
       "       [2.00e+00, 8.00e+00, 8.80e+02],\n",
       "       [2.00e+00, 9.00e+00, 9.00e+02],\n",
       "       [2.00e+00, 1.00e+01, 8.40e+02],\n",
       "       [2.00e+00, 1.10e+01, 8.30e+02],\n",
       "       [2.00e+00, 1.20e+01, 7.90e+02],\n",
       "       [2.00e+00, 1.30e+01, 8.10e+02],\n",
       "       [2.00e+00, 1.40e+01, 8.80e+02],\n",
       "       [2.00e+00, 1.50e+01, 8.80e+02],\n",
       "       [2.00e+00, 1.60e+01, 8.30e+02],\n",
       "       [2.00e+00, 1.70e+01, 8.00e+02],\n",
       "       [2.00e+00, 1.80e+01, 7.90e+02],\n",
       "       [2.00e+00, 1.90e+01, 7.60e+02],\n",
       "       [3.00e+00, 2.00e+01, 8.00e+02],\n",
       "       [3.00e+00, 1.00e+00, 8.80e+02],\n",
       "       [3.00e+00, 2.00e+00, 8.80e+02],\n",
       "       [3.00e+00, 3.00e+00, 8.80e+02],\n",
       "       [3.00e+00, 4.00e+00, 8.60e+02],\n",
       "       [3.00e+00, 5.00e+00, 7.20e+02],\n",
       "       [3.00e+00, 6.00e+00, 7.20e+02],\n",
       "       [3.00e+00, 7.00e+00, 6.20e+02],\n",
       "       [3.00e+00, 8.00e+00, 8.60e+02],\n",
       "       [3.00e+00, 9.00e+00, 9.70e+02],\n",
       "       [3.00e+00, 1.00e+01, 9.50e+02],\n",
       "       [3.00e+00, 1.10e+01, 8.80e+02],\n",
       "       [3.00e+00, 1.20e+01, 9.10e+02],\n",
       "       [3.00e+00, 1.30e+01, 8.50e+02],\n",
       "       [3.00e+00, 1.40e+01, 8.70e+02],\n",
       "       [3.00e+00, 1.50e+01, 8.40e+02],\n",
       "       [3.00e+00, 1.60e+01, 8.40e+02],\n",
       "       [3.00e+00, 1.70e+01, 8.50e+02],\n",
       "       [3.00e+00, 1.80e+01, 8.40e+02],\n",
       "       [3.00e+00, 1.90e+01, 8.40e+02],\n",
       "       [3.00e+00, 2.00e+01, 8.40e+02],\n",
       "       [4.00e+00, 1.00e+00, 8.90e+02],\n",
       "       [4.00e+00, 2.00e+00, 8.10e+02],\n",
       "       [4.00e+00, 3.00e+00, 8.10e+02],\n",
       "       [4.00e+00, 4.00e+00, 8.20e+02],\n",
       "       [4.00e+00, 5.00e+00, 8.00e+02],\n",
       "       [4.00e+00, 6.00e+00, 7.70e+02],\n",
       "       [4.00e+00, 7.00e+00, 7.60e+02],\n",
       "       [4.00e+00, 8.00e+00, 7.40e+02],\n",
       "       [4.00e+00, 9.00e+00, 7.50e+02],\n",
       "       [4.00e+00, 1.00e+01, 7.60e+02],\n",
       "       [4.00e+00, 1.10e+01, 9.10e+02],\n",
       "       [4.00e+00, 1.20e+01, 9.20e+02],\n",
       "       [4.00e+00, 1.30e+01, 8.90e+02],\n",
       "       [4.00e+00, 1.40e+01, 8.60e+02],\n",
       "       [4.00e+00, 1.50e+01, 8.80e+02],\n",
       "       [4.00e+00, 1.60e+01, 7.20e+02],\n",
       "       [4.00e+00, 1.70e+01, 8.40e+02],\n",
       "       [4.00e+00, 1.80e+01, 8.50e+02],\n",
       "       [4.00e+00, 1.90e+01, 8.50e+02],\n",
       "       [4.00e+00, 2.00e+01, 7.80e+02],\n",
       "       [5.00e+00, 1.00e+00, 8.90e+02],\n",
       "       [5.00e+00, 2.00e+00, 8.40e+02],\n",
       "       [5.00e+00, 3.00e+00, 7.80e+02],\n",
       "       [5.00e+00, 4.00e+00, 8.10e+02],\n",
       "       [5.00e+00, 5.00e+00, 7.60e+02],\n",
       "       [5.00e+00, 6.00e+00, 8.10e+02],\n",
       "       [5.00e+00, 7.00e+00, 7.90e+02],\n",
       "       [5.00e+00, 8.00e+00, 8.10e+02],\n",
       "       [5.00e+00, 9.00e+00, 8.20e+02],\n",
       "       [5.00e+00, 1.00e+01, 8.50e+02],\n",
       "       [5.00e+00, 1.10e+01, 8.70e+02],\n",
       "       [5.00e+00, 1.20e+01, 8.70e+02],\n",
       "       [5.00e+00, 1.30e+01, 8.10e+02],\n",
       "       [5.00e+00, 1.40e+01, 7.40e+02],\n",
       "       [5.00e+00, 1.50e+01, 8.10e+02],\n",
       "       [5.00e+00, 1.60e+01, 9.40e+02],\n",
       "       [5.00e+00, 1.70e+01, 9.50e+02],\n",
       "       [5.00e+00, 1.80e+01, 8.00e+02],\n",
       "       [5.00e+00, 1.90e+01, 8.10e+02],\n",
       "       [5.00e+00, 2.00e+01, 8.70e+02]])"
      ]
     },
     "execution_count": 27,
     "metadata": {},
     "output_type": "execute_result"
    }
   ],
   "source": [
    "# Importing the morley data set:.\n",
    "data = np.genfromtxt('morley.csv', skip_header=1, delimiter=',')\n",
    "data"
   ]
  },
  {
   "cell_type": "code",
   "execution_count": 28,
   "metadata": {},
   "outputs": [
    {
     "data": {
      "text/plain": [
       "array([ 850.,  740.,  900., 1070.,  930.,  850.,  950.,  980.,  980.,\n",
       "        880., 1000.,  980.,  930.,  650.,  760.,  810., 1000., 1000.,\n",
       "        960.,  960.])"
      ]
     },
     "execution_count": 28,
     "metadata": {},
     "output_type": "execute_result"
    }
   ],
   "source": [
    "# Select the data for the first experiment.\n",
    "exper_1 = data[:20, 2]\n",
    "exper_1"
   ]
  },
  {
   "cell_type": "code",
   "execution_count": 35,
   "metadata": {},
   "outputs": [
    {
     "data": {
      "text/plain": [
       "array([890., 810., 810., 820., 800., 770., 760., 740., 750., 760., 910.,\n",
       "       920., 890., 860., 880., 720., 840., 850., 850., 780.])"
      ]
     },
     "execution_count": 35,
     "metadata": {},
     "output_type": "execute_result"
    }
   ],
   "source": [
    "exper_2, exper_3, exper_4, exper_5 = data[20:40, 2], data[40:60, 2], data[60:80, 2], data[80:100, 2]\n",
    "exper_4"
   ]
  },
  {
   "cell_type": "code",
   "execution_count": 43,
   "metadata": {
    "scrolled": false
   },
   "outputs": [
    {
     "data": {
      "image/png": "[encoded data removed]",
      "text/plain": [
       "<Figure size 792x432 with 1 Axes>"
      ]
     },
     "metadata": {
      "needs_background": "light"
     },
     "output_type": "display_data"
    }
   ],
   "source": [
    "import matplotlib.pyplot as plt\n",
    "plt.rcParams[\"figure.figsize\"] = (11,6)\n",
    "plt.boxplot(np.array([exper_1, exper_2, exper_3, exper_4, exper_5]).T);"
   ]
  },
  {
   "cell_type": "markdown",
   "metadata": {},
   "source": [
    "## Exercise 2:"
   ]
  },
  {
   "cell_type": "markdown",
   "metadata": {},
   "source": [
    "Create box plots for all of the numercial variables in Fisher's Iris Data Set."
   ]
  },
  {
   "cell_type": "code",
   "execution_count": 12,
   "metadata": {},
   "outputs": [
    {
     "name": "stdout",
     "output_type": "stream",
     "text": [
      "(150, 4)\n",
      "[[5.1 3.5 1.4 0.2]\n",
      " [4.9 3.  1.4 0.2]\n",
      " [4.7 3.2 1.3 0.2]\n",
      " [4.6 3.1 1.5 0.2]\n",
      " [5.  3.6 1.4 0.2]\n",
      " [5.4 3.9 1.7 0.4]\n",
      " [4.6 3.4 1.4 0.3]\n",
      " [5.  3.4 1.5 0.2]]\n"
     ]
    },
    {
     "data": {
      "text/plain": [
       "['sepal length (cm)',\n",
       " 'sepal width (cm)',\n",
       " 'petal length (cm)',\n",
       " 'petal width (cm)']"
      ]
     },
     "execution_count": 12,
     "metadata": {},
     "output_type": "execute_result"
    }
   ],
   "source": [
    "# Box plots are drawn only for continuous variables. Fisher's Iris Data Set contains four variables, sepal length, sepal width,\n",
    "# petal length and petal width. All are measured in centimeters.\n",
    "import matplotlib.pyplot as plt\n",
    "import pandas as pd\n",
    "from sklearn import datasets\n",
    "from sklearn.decomposition import PCA\n",
    "\n",
    "iris_dataset = datasets.load_iris()\n",
    "print(iris_dataset.data.shape)\n",
    "print(iris_dataset.data[0:8])\n",
    "iris_dataset.feature_names"
   ]
  },
  {
   "cell_type": "code",
   "execution_count": 13,
   "metadata": {
    "scrolled": true
   },
   "outputs": [
    {
     "name": "stdout",
     "output_type": "stream",
     "text": [
      "   sepal length (cm)  sepal width (cm)  petal length (cm)  petal width (cm)\n",
      "0                5.1               3.5                1.4               0.2\n",
      "1                4.9               3.0                1.4               0.2\n",
      "2                4.7               3.2                1.3               0.2\n",
      "3                4.6               3.1                1.5               0.2\n",
      "4                5.0               3.6                1.4               0.2\n"
     ]
    }
   ],
   "source": [
    "dataframe = pd.DataFrame(iris_dataset.data, columns=iris_dataset['feature_names'])\n",
    "print(dataframe.head())"
   ]
  },
  {
   "cell_type": "code",
   "execution_count": 14,
   "metadata": {
    "scrolled": false
   },
   "outputs": [
    {
     "data": {
      "text/plain": [
       "<matplotlib.axes._subplots.AxesSubplot at 0x592e3a0>"
      ]
     },
     "execution_count": 14,
     "metadata": {},
     "output_type": "execute_result"
    },
    {
     "data": {
      "image/png": "[encoded data removed]",
      "text/plain": [
       "<Figure size 864x504 with 1 Axes>"
      ]
     },
     "metadata": {
      "needs_background": "light"
     },
     "output_type": "display_data"
    }
   ],
   "source": [
    "dataframe.boxplot(figsize=(12,7), fontsize=13)"
   ]
  },
  {
   "cell_type": "code",
   "execution_count": 34,
   "metadata": {},
   "outputs": [
    {
     "data": {
      "text/plain": [
       "<matplotlib.axes._subplots.AxesSubplot at 0x1f2d3970>"
      ]
     },
     "execution_count": 34,
     "metadata": {},
     "output_type": "execute_result"
    },
    {
     "data": {
      "image/png": "[encoded data removed]",
      "text/plain": [
       "<Figure size 432x288 with 1 Axes>"
      ]
     },
     "metadata": {
      "needs_background": "light"
     },
     "output_type": "display_data"
    }
   ],
   "source": [
    "fix, ax = plt.subplots(1, 1)\n",
    "dataframe.boxplot(column=['sepal length (cm)', 'sepal width (cm)', 'petal length (cm)', 'petal width (cm)'],  ax=ax)"
   ]
  },
  {
   "cell_type": "code",
   "execution_count": 40,
   "metadata": {},
   "outputs": [
    {
     "data": {
      "text/plain": [
       "<matplotlib.axes._subplots.AxesSubplot at 0x1d1da100>"
      ]
     },
     "execution_count": 40,
     "metadata": {},
     "output_type": "execute_result"
    },
    {
     "data": {
      "image/png": "[encoded data removed]",
      "text/plain": [
       "<Figure size 432x288 with 1 Axes>"
      ]
     },
     "metadata": {
      "needs_background": "light"
     },
     "output_type": "display_data"
    }
   ],
   "source": [
    "dataframe.boxplot(column=['sepal length (cm)'])"
   ]
  },
  {
   "cell_type": "code",
   "execution_count": 46,
   "metadata": {},
   "outputs": [
    {
     "data": {
      "text/plain": [
       "<matplotlib.axes._subplots.AxesSubplot at 0x1d6cb5e0>"
      ]
     },
     "execution_count": 46,
     "metadata": {},
     "output_type": "execute_result"
    },
    {
     "data": {
      "image/png": "[encoded data removed]",
      "text/plain": [
       "<Figure size 432x288 with 1 Axes>"
      ]
     },
     "metadata": {
      "needs_background": "light"
     },
     "output_type": "display_data"
    }
   ],
   "source": [
    "dataframe.boxplot(column=['sepal width (cm)'])"
   ]
  },
  {
   "cell_type": "code",
   "execution_count": 47,
   "metadata": {},
   "outputs": [
    {
     "data": {
      "text/plain": [
       "<matplotlib.axes._subplots.AxesSubplot at 0x1d703880>"
      ]
     },
     "execution_count": 47,
     "metadata": {},
     "output_type": "execute_result"
    },
    {
     "data": {
      "image/png": "[encoded data removed]",
      "text/plain": [
       "<Figure size 432x288 with 1 Axes>"
      ]
     },
     "metadata": {
      "needs_background": "light"
     },
     "output_type": "display_data"
    }
   ],
   "source": [
    "dataframe.boxplot(column=['petal length (cm)'])"
   ]
  },
  {
   "cell_type": "code",
   "execution_count": 48,
   "metadata": {},
   "outputs": [
    {
     "data": {
      "text/plain": [
       "<matplotlib.axes._subplots.AxesSubplot at 0x1d751040>"
      ]
     },
     "execution_count": 48,
     "metadata": {},
     "output_type": "execute_result"
    },
    {
     "data": {
      "image/png": "[encoded data removed]",
      "text/plain": [
       "<Figure size 432x288 with 1 Axes>"
      ]
     },
     "metadata": {
      "needs_background": "light"
     },
     "output_type": "display_data"
    }
   ],
   "source": [
    "dataframe.boxplot(column=['petal width (cm)'])"
   ]
  },
  {
   "cell_type": "code",
   "execution_count": null,
   "metadata": {},
   "outputs": [],
   "source": []
  },
  {
   "cell_type": "markdown",
   "metadata": {},
   "source": [
    "## Exercise 3:"
   ]
  },
  {
   "cell_type": "markdown",
   "metadata": {},
   "source": [
    "Adapt the above code and plots so that the overall plot is inversely propertional and the individual groups are directly proportional."
   ]
  },
  {
   "cell_type": "code",
   "execution_count": 7,
   "metadata": {
    "scrolled": false
   },
   "outputs": [
    {
     "data": {
      "text/plain": [
       "<matplotlib.axes._subplots.AxesSubplot at 0x1a1769a0>"
      ]
     },
     "execution_count": 7,
     "metadata": {},
     "output_type": "execute_result"
    },
    {
     "data": {
      "image/png": "[encoded data removed]",
      "text/plain": [
       "<Figure size 864x504 with 1 Axes>"
      ]
     },
     "metadata": {
      "needs_background": "light"
     },
     "output_type": "display_data"
    }
   ],
   "source": [
    "dataframe2 = dataframe.transpose()\n",
    "dataframe2.boxplot(figsize=(12,7), fontsize=13)"
   ]
  },
  {
   "cell_type": "code",
   "execution_count": null,
   "metadata": {},
   "outputs": [],
   "source": [
    "Inverse proportionality formula : $y = 1/x$"
   ]
  },
  {
   "cell_type": "code",
   "execution_count": 33,
   "metadata": {},
   "outputs": [
    {
     "data": {
      "image/png": "[encoded data removed]",
      "text/plain": [
       "<Figure size 864x504 with 1 Axes>"
      ]
     },
     "metadata": {
      "needs_background": "light"
     },
     "output_type": "display_data"
    }
   ],
   "source": [
    "dataframe.boxplot(figsize=(12,7), fontsize=13, vert=False);"
   ]
  },
  {
   "cell_type": "code",
   "execution_count": null,
   "metadata": {},
   "outputs": [],
   "source": []
  },
  {
   "cell_type": "code",
   "execution_count": null,
   "metadata": {},
   "outputs": [],
   "source": []
  },
  {
   "cell_type": "code",
   "execution_count": null,
   "metadata": {},
   "outputs": [],
   "source": []
  },
  {
   "cell_type": "code",
   "execution_count": null,
   "metadata": {},
   "outputs": [],
   "source": []
  }
 ],
 "metadata": {
  "kernelspec": {
   "display_name": "Python 3",
   "language": "python",
   "name": "python3"
  },
  "language_info": {
   "codemirror_mode": {
    "name": "ipython",
    "version": 3
   },
   "file_extension": ".py",
   "mimetype": "text/x-python",
   "name": "python",
   "nbconvert_exporter": "python",
   "pygments_lexer": "ipython3",
   "version": "3.8.3"
  }
 },
 "nbformat": 4,
 "nbformat_minor": 4
}
