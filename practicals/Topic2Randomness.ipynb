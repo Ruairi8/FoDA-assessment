{
 "cells": [
  {
   "cell_type": "markdown",
   "metadata": {},
   "source": [
    "Exercise: There are the same number of ways to get 4 tails as there are 4 heads. Explain why."
   ]
  },
  {
   "cell_type": "markdown",
   "metadata": {},
   "source": [
    "In scenarios where you are flipping a coin ten times, any time the result contains either four tails or four heads; that means there must also be six heads along with the four tails or six tails along with the four heads. In a fair coin where the probability of it landing on heads or tails is exactly 0.5, if you enter these numbers into a mathematical formula for calculating the number of combinations, comparing four tails to four heads, the result will be the same for both."
   ]
  },
  {
   "cell_type": "code",
   "execution_count": 1,
   "metadata": {},
   "outputs": [
    {
     "name": "stdout",
     "output_type": "stream",
     "text": [
      "210\n",
      "210\n"
     ]
    }
   ],
   "source": [
    "import math\n",
    "print(math.comb(10,4))\n",
    "print(math.comb(10,6))"
   ]
  },
  {
   "cell_type": "markdown",
   "metadata": {},
   "source": [
    "(5 * 4 * 3 * 2 * 1) perfectly divides (10 * 9 * 8 * 7 * 6). If we only wanted 4 heads the calculation would be (10 * 9 * 8 * 7)\n",
    "/(4 * 3 * 2 * 1). Does it evenly divide? What is the general formula? Does it always come out as a positive whole number? "
   ]
  },
  {
   "cell_type": "code",
   "execution_count": null,
   "metadata": {},
   "outputs": [],
   "source": []
  },
  {
   "cell_type": "code",
   "execution_count": null,
   "metadata": {},
   "outputs": [],
   "source": []
  },
  {
   "cell_type": "code",
   "execution_count": null,
   "metadata": {},
   "outputs": [],
   "source": []
  }
 ],
 "metadata": {
  "kernelspec": {
   "display_name": "Python 3",
   "language": "python",
   "name": "python3"
  },
  "language_info": {
   "codemirror_mode": {
    "name": "ipython",
    "version": 3
   },
   "file_extension": ".py",
   "mimetype": "text/x-python",
   "name": "python",
   "nbconvert_exporter": "python",
   "pygments_lexer": "ipython3",
   "version": "3.8.3"
  }
 },
 "nbformat": 4,
 "nbformat_minor": 4
}
