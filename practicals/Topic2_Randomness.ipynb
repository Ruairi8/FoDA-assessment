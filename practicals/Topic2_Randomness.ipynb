{
 "cells": [
  {
   "cell_type": "markdown",
   "metadata": {},
   "source": [
    "## Exercise 1: (5 * 4 * 3 * 2 * 1) perfectly divides (10 * 9 * 8 * 7 * 6). If we only wanted 4 heads the calculation would be (10 * 9 * 8 * 7) /(4 * 3 * 2 * 1). Does it evenly divide? What is the general formula? Does it always come out as a positive whole number? "
   ]
  },
  {
   "cell_type": "markdown",
   "metadata": {},
   "source": [
    "C(n, k) outputs the number of combinations of k objects picked from n objects, this must be a whole number. Also known as \"n choose k\" in mathematics. \n",
    "Formula:\n",
    "         $C(n,k)$ = $n!$ / $k!(n - k)!$"
   ]
  },
  {
   "cell_type": "markdown",
   "metadata": {},
   "source": [
    "There is a formula known as the Binomial Coefficient (n; k) is the number of ways of picking k unordered outcomes from n \n",
    "possibilities. (n; k) gives the number of k-subsets possible out of a set of n distinct items. The Binomial Coefficient \n",
    "can also be generalized to non integer arguments (including complex x and y) as:\n",
    "\n",
    "$(x; y)$ = $(\\Gamma(x+1))$/$(\\Gamma(y+1)\\Gamma(x-y+1))$"
   ]
  },
  {
   "cell_type": "markdown",
   "metadata": {},
   "source": [
    "In the examples below the calculation all evenly divide. "
   ]
  },
  {
   "cell_type": "code",
   "execution_count": 2,
   "metadata": {},
   "outputs": [
    {
     "data": {
      "text/plain": [
       "210.0"
      ]
     },
     "execution_count": 2,
     "metadata": {},
     "output_type": "execute_result"
    }
   ],
   "source": [
    "(10 * 9 * 8 * 7) / (4 * 3 * 2 * 1)"
   ]
  },
  {
   "cell_type": "code",
   "execution_count": 3,
   "metadata": {},
   "outputs": [
    {
     "data": {
      "text/plain": [
       "120.0"
      ]
     },
     "execution_count": 3,
     "metadata": {},
     "output_type": "execute_result"
    }
   ],
   "source": [
    "(10 * 9 * 8) / (3 * 2 * 1)"
   ]
  },
  {
   "cell_type": "code",
   "execution_count": 4,
   "metadata": {},
   "outputs": [
    {
     "data": {
      "text/plain": [
       "286.0"
      ]
     },
     "execution_count": 4,
     "metadata": {},
     "output_type": "execute_result"
    }
   ],
   "source": [
    "(13 * 12 * 11) / ( 3 * 2 * 1)"
   ]
  },
  {
   "cell_type": "code",
   "execution_count": 6,
   "metadata": {},
   "outputs": [
    {
     "data": {
      "text/plain": [
       "252.0"
      ]
     },
     "execution_count": 6,
     "metadata": {},
     "output_type": "execute_result"
    }
   ],
   "source": [
    "(10 * 9 * 8 * 7 * 6) / (5 * 4 * 3 * 2 * 1)"
   ]
  },
  {
   "cell_type": "markdown",
   "metadata": {},
   "source": [
    "Let $z = (m + k)!$  /  $m! = (m + 1)(m + 2)...(m + k)$ where m, k are non negative integers.\n",
    "Let Gp(k) be defined as the greatest power of prime p that evenly divides $k!$. For ex, G2(7)=4 because $2^4$ evenly divides $7!$ \n",
    "but $2^5$ does not. $Gp(k)$ is equivalent to the number of integers from 1 to k divisible by p, plus the number of integers divisible\n",
    "by $p^2$ and so on.For any k theres is a power of p that eventually result in all successive powers equalling zero.\n",
    "Gp(k) can be denoted as: $Gp(k)$ = $|k/p| + |k/p^2| + |k/p^3|$ + ...\n",
    "Since this is true for any k, it can be generalised as: $Gp(m + k)$ = $|m + k/p|$ + $|m + k/p^2|$ + ...\n",
    "The number of ps in the factorization of $z = (m + k)!$  /  $m! can be got by finding the difference of the number of ps in the \n",
    "factorizations of the numerator and the denominator, i.e. $Gp(m + k) - Gp(m)$\n"
   ]
  },
  {
   "cell_type": "markdown",
   "metadata": {},
   "source": [
    "For any real numbers a and b: $|a + b| >= |a| + |b|$\n",
    "It follows that: $|m + k/p^t|$ = $|m/p^t + k/p^t| >= |m/p^t| + |k/p^t|$ and $|m/p^t + k/p^t| - |m/p^t| >= |k/p^t|$\n",
    "$Gp(m + k) - Gp(m) >= Gp(k)$. \n",
    "$Gp(m + k) - Gp(m)$ represents the number of times p factors into the product of a set of k consecutive integers beginning with \n",
    "$(m + 1)$. This implies that for every prime p there will always be at least as many ps in the prime factorialization of the \n",
    "product: $(m + 1)(m + 2)....(m + k)$ as there would be in the product $(1)(2)(3)...(k)$ this ensuring \n",
    "    $C(n,k) = (n)(n - 1)(n - 2)...(n - k + 1)$ / $(k)(k - 1)(k - 2)....(1)$ \n",
    "    always results in an integer."
   ]
  },
  {
   "cell_type": "markdown",
   "metadata": {},
   "source": [
    "### References: "
   ]
  },
  {
   "cell_type": "markdown",
   "metadata": {},
   "source": [
    "https://www.jstor.org/stable/10.5951/mathteacher.109.6.0472"
   ]
  },
  {
   "cell_type": "markdown",
   "metadata": {},
   "source": [
    "## Exercise 2: There are the same number of ways to get 4 tails as there are 4 heads. Explain why."
   ]
  },
  {
   "cell_type": "markdown",
   "metadata": {},
   "source": [
    "In scenarios where you are flipping a coin ten times, any time the result contains either four tails or four heads; that means there must also be six heads along with the four tails or six tails along with the four heads. In a fair coin where the probability of it landing on heads or tails is exactly 0.5, if you enter these numbers into a mathematical formula for calculating the number of combinations, comparing four tails to four heads, the result will be the same for both."
   ]
  },
  {
   "cell_type": "code",
   "execution_count": 5,
   "metadata": {},
   "outputs": [
    {
     "name": "stdout",
     "output_type": "stream",
     "text": [
      "210\n",
      "210\n"
     ]
    }
   ],
   "source": [
    "# 10 choose 4 is the same as 10 choose 6:\n",
    "import math\n",
    "print(math.comb(10,4))\n",
    "print(math.comb(10,6))"
   ]
  },
  {
   "cell_type": "markdown",
   "metadata": {},
   "source": [
    "### References:"
   ]
  },
  {
   "cell_type": "markdown",
   "metadata": {},
   "source": [
    "https://mathworld.wolfram.com/BinomialCoefficient.html#:~:text=The%20binomial%20coefficient%20is%20the,sometimes%20read%20as%20%22%20choose%20.%22"
   ]
  },
  {
   "cell_type": "markdown",
   "metadata": {},
   "source": [
    "## Exercise 3: Plot bar charts or histograms of any three different distributions listed at the following link:\n",
    "https://numpy.org/doc/stable/reference/random/generator.html#distributions"
   ]
  },
  {
   "cell_type": "code",
   "execution_count": 52,
   "metadata": {},
   "outputs": [
    {
     "data": {
      "image/png": "[encoded data removed]",
      "text/plain": [
       "<Figure size 432x288 with 1 Axes>"
      ]
     },
     "metadata": {
      "needs_background": "light"
     },
     "output_type": "display_data"
    }
   ],
   "source": [
    "import matplotlib.pyplot as plt\n",
    "import numpy as np\n",
    "x = np.random.default_rng()\n",
    "counts, bins, ignored = plt.hist(x.lognormal(8, 4, 20), bins=10, density=True)\n",
    "y = np.linspace(min(bins), max(bins), 10000)\n",
    "pdf = (np.exp(-(np.log(y) - 14)**2 / (2 * 8**2))\n",
    "       / (y * 8 * np.sqrt(2 * np.pi)))\n",
    "plt.plot(y, pdf, linewidth=2, color='r')\n",
    "plt.axis('tight')\n",
    "plt.show()"
   ]
  },
  {
   "cell_type": "code",
   "execution_count": 3,
   "metadata": {},
   "outputs": [
    {
     "data": {
      "image/png": "[encoded data removed]",
      "text/plain": [
       "<Figure size 432x288 with 1 Axes>"
      ]
     },
     "metadata": {
      "needs_background": "light"
     },
     "output_type": "display_data"
    }
   ],
   "source": [
    "x = np.random.gumbel(loc=[0.0, 1.5, 3.0, 4.5], scale=2.2)\n",
    "plt.bar(x, 20)\n",
    "plt.show()"
   ]
  },
  {
   "cell_type": "code",
   "execution_count": 58,
   "metadata": {},
   "outputs": [
    {
     "data": {
      "image/png": "[encoded data removed]",
      "text/plain": [
       "<Figure size 432x288 with 1 Axes>"
      ]
     },
     "metadata": {
      "needs_background": "light"
     },
     "output_type": "display_data"
    }
   ],
   "source": [
    "x = np.random.gumbel(loc=[0.0, 1.5, 3.0, 4.5], scale=3)\n",
    "plt.bar(x, 20)\n",
    "plt.show()"
   ]
  },
  {
   "cell_type": "code",
   "execution_count": 59,
   "metadata": {},
   "outputs": [
    {
     "data": {
      "image/png": "[encoded data removed]",
      "text/plain": [
       "<Figure size 432x288 with 1 Axes>"
      ]
     },
     "metadata": {
      "needs_background": "light"
     },
     "output_type": "display_data"
    }
   ],
   "source": [
    "x = np.random.default_rng()\n",
    "mu, beta = 1, 0.5 # location and scale\n",
    "s = x.gumbel(mu, beta, 100)\n",
    "count, bins, ignored = plt.hist(s, 20, density=True)\n",
    "plt.plot(bins, (1/beta)*np.exp(-(bins - mu)/beta)\n",
    "         * np.exp( -np.exp( -(bins - mu) /beta) ),\n",
    "         linewidth=2, color='r')\n",
    "plt.show()"
   ]
  },
  {
   "cell_type": "code",
   "execution_count": 25,
   "metadata": {},
   "outputs": [
    {
     "data": {
      "image/png": "[encoded data removed]",
      "text/plain": [
       "<Figure size 432x288 with 1 Axes>"
      ]
     },
     "metadata": {
      "needs_background": "light"
     },
     "output_type": "display_data"
    }
   ],
   "source": [
    "x = np.random.default_rng()\n",
    "plt.hist(x.wald(mean=3, scale=2, size=500), bins=10, color='orange', histtype='bar')\n",
    "plt.show()"
   ]
  },
  {
   "cell_type": "code",
   "execution_count": null,
   "metadata": {},
   "outputs": [],
   "source": []
  }
 ],
 "metadata": {
  "kernelspec": {
   "display_name": "Python 3",
   "language": "python",
   "name": "python3"
  },
  "language_info": {
   "codemirror_mode": {
    "name": "ipython",
    "version": 3
   },
   "file_extension": ".py",
   "mimetype": "text/x-python",
   "name": "python",
   "nbconvert_exporter": "python",
   "pygments_lexer": "ipython3",
   "version": "3.8.3"
  }
 },
 "nbformat": 4,
 "nbformat_minor": 4
}
