{
 "cells": [
  {
   "cell_type": "markdown",
   "metadata": {},
   "source": [
    "# <center>Data Cleansing</center>\n",
    "---"
   ]
  },
  {
   "cell_type": "markdown",
   "metadata": {},
   "source": [
    "Pythons 're' module can be used to search for patterns in text. <b>Regular expressions</b>, or regex are a set of characters that the re module searches for in a text. "
   ]
  },
  {
   "cell_type": "markdown",
   "metadata": {},
   "source": [
    "<b>Metacharacters</b>, also known as special characters include:  . ^ $ * + ? { } [ ] \\ | ( )  They have special meaning in regex, but they can be 'escaped' using a backslash which means they are treated as an ordinary character by regex. The '.escape()' can also be used. "
   ]
  },
  {
   "cell_type": "markdown",
   "metadata": {},
   "source": [
    "The letter $r$ is often placed in front of a regular expression to convert it to a raw string. In this way, Python no longer treats certain letters or characters as having a special meaning but just takes them as they are.\n",
    "For example:"
   ]
  },
  {
   "cell_type": "code",
   "execution_count": 39,
   "metadata": {},
   "outputs": [
    {
     "name": "stdout",
     "output_type": "stream",
     "text": [
      "\\n\\tstring\n"
     ]
    }
   ],
   "source": [
    "string = r\"\\n\\tstring\" \n",
    "print(string)"
   ]
  },
  {
   "cell_type": "markdown",
   "metadata": {},
   "source": [
    "[^xyz]           -  matches any character <em>except</em> x,y or z<br>\n",
    "[a - z]          -  a dash z matches any lowercase letters of the alphabet<br>\n",
    "\\d or [0 - 9]    -  matches number from zero to nine<br>\n",
    "\\D or [^ 0 - 9]  -  matches anything except numbers from zero to nine<br>\n",
    "\\w or [a-zA-Z_0-9]  -  matches lower and uppercase letter, an underscore, and numbers from zero to nine<br>\n",
    "\\W  -  matches everthing except what \\w matches<br>\n",
    "asterisk *   -  matches zero or more<br>\n",
    "plus +  -  matches one or more<br>\n",
    "?  -  matches zero or one<br>\n",
    "{5}  -  matches exactly five times<br>\n",
    "{5,7}  -  matches between five and seven times"
   ]
  },
  {
   "cell_type": "markdown",
   "metadata": {},
   "source": [
    "Example search for an email:"
   ]
  },
  {
   "cell_type": "code",
   "execution_count": 4,
   "metadata": {},
   "outputs": [],
   "source": [
    "# Importing Pythons regex module 're':\n",
    "import re"
   ]
  },
  {
   "cell_type": "code",
   "execution_count": 24,
   "metadata": {},
   "outputs": [
    {
     "name": "stdout",
     "output_type": "stream",
     "text": [
      "<re.Match object; span=(0, 18), match='john37@outlook.com'>\n",
      "<re.Match object; span=(20, 36), match='lenora44@eire.ie'>\n",
      "<re.Match object; span=(38, 57), match=\"con&!o'neill@atu.ie\">\n",
      "<re.Match object; span=(59, 83), match='brian_murphy@hotmail.com'>\n",
      "<re.Match object; span=(85, 106), match='jon137-a.@outlook.com'>\n"
     ]
    }
   ],
   "source": [
    "# Example regex patterns to search for emails in a text:\n",
    "emails = \"john37@outlook.com, lenora44@eire.ie, con&!o'neill@atu.ie, brian_murphy@hotmail.com, jon137-a.@outlook.com\"\n",
    "pattern = re.compile(r'[a-zA-Z_0-9.\\-\\!&\\']+@[a-zA-Z]+\\.(com|net|ie)')\n",
    "matches = pattern.finditer(emails)\n",
    "for x in matches:\n",
    "    print(x)"
   ]
  },
  {
   "cell_type": "code",
   "execution_count": 20,
   "metadata": {},
   "outputs": [
    {
     "data": {
      "text/plain": [
       "['john37@outlook.com',\n",
       " 'lenora44@eire.ie',\n",
       " 'neill@atu.ie',\n",
       " 'brian_murphy@hotmail.com',\n",
       " 'jon137-a.@outlook.com']"
      ]
     },
     "execution_count": 20,
     "metadata": {},
     "output_type": "execute_result"
    }
   ],
   "source": [
    "# It is more convenient to use '\\w' and it saves a programmer from having to insert every character inside square brackets: \n",
    "pattern = re.findall(r'[\\w\\.-]+@[\\w\\.-]+', emails)\n",
    "pattern"
   ]
  },
  {
   "cell_type": "markdown",
   "metadata": {},
   "source": [
    "### Common regex functions:"
   ]
  },
  {
   "cell_type": "markdown",
   "metadata": {},
   "source": [
    "The .search() function will return matches anywhere in the string:"
   ]
  },
  {
   "cell_type": "code",
   "execution_count": 32,
   "metadata": {
    "scrolled": true
   },
   "outputs": [
    {
     "data": {
      "text/plain": [
       "<re.Match object; span=(1, 2), match='e'>"
      ]
     },
     "execution_count": 32,
     "metadata": {},
     "output_type": "execute_result"
    }
   ],
   "source": [
    "x = \"Hello and goodbye to you!\"\n",
    "res = re.search(r'[el]', x)\n",
    "res"
   ]
  },
  {
   "cell_type": "markdown",
   "metadata": {},
   "source": [
    "The .match() function only matches from index 0 at the start of a string. So nothing is matched from the string of text, x:"
   ]
  },
  {
   "cell_type": "code",
   "execution_count": 36,
   "metadata": {},
   "outputs": [
    {
     "name": "stdout",
     "output_type": "stream",
     "text": [
      "None\n"
     ]
    }
   ],
   "source": [
    "res = re.match(r'[el]', x)\n",
    "print(res)"
   ]
  },
  {
   "cell_type": "markdown",
   "metadata": {},
   "source": [
    "The compile() function allows a regular expression object to be stored to a variable which saves writing the same code over and over again in a program:"
   ]
  },
  {
   "cell_type": "code",
   "execution_count": 38,
   "metadata": {},
   "outputs": [],
   "source": [
    "x = re.compile(pattern)\n",
    "result = x.match(string)"
   ]
  },
  {
   "cell_type": "code",
   "execution_count": null,
   "metadata": {},
   "outputs": [],
   "source": []
  },
  {
   "cell_type": "markdown",
   "metadata": {},
   "source": [
    "### Exercise 1: "
   ]
  },
  {
   "cell_type": "markdown",
   "metadata": {},
   "source": [
    "Write a Python function to remove all non-alphanumeric characters from a string."
   ]
  },
  {
   "cell_type": "code",
   "execution_count": 27,
   "metadata": {},
   "outputs": [],
   "source": [
    "import re\n",
    "string = \"Will this function remove NON Alphanumeric Characters:£€€# #,..??.=@=~#£ and keep numbers 78247892\"\n",
    "def remove_chars(string):\n",
    "    # A regular expression passed into the re.sub() method:\n",
    "    x = re.sub(r'[\\W]', ' ', string)\n",
    "    return x"
   ]
  },
  {
   "cell_type": "code",
   "execution_count": 28,
   "metadata": {},
   "outputs": [
    {
     "data": {
      "text/plain": [
       "'Will this function remove NON Alphanumeric Characters                    and keep numbers 78247892'"
      ]
     },
     "execution_count": 28,
     "metadata": {},
     "output_type": "execute_result"
    }
   ],
   "source": [
    "remove_chars(string)"
   ]
  },
  {
   "cell_type": "code",
   "execution_count": null,
   "metadata": {},
   "outputs": [],
   "source": []
  },
  {
   "cell_type": "code",
   "execution_count": null,
   "metadata": {},
   "outputs": [],
   "source": []
  },
  {
   "cell_type": "code",
   "execution_count": 4,
   "metadata": {},
   "outputs": [
    {
     "data": {
      "text/plain": [
       "['5.1,3.5,1.4,0.2,Iris-setosa',\n",
       " '4.9,3.0,1.4,0.2,Iris-setosa',\n",
       " '4.7,3.2,1.3,0.2,Iris-setosa',\n",
       " '4.6,3.1,1.5,0.2,Iris-setosa',\n",
       " '5.0,3.6,1.4,0.2,Iris-setosa',\n",
       " '5.4,3.9,1.7,0.4,Iris-setosa',\n",
       " '4.6,3.4,1.4,0.3,Iris-setosa',\n",
       " '5.0,3.4,1.5,0.2,Iris-setosa',\n",
       " '4.4,2.9,1.4,0.2,Iris-setosa',\n",
       " '4.9,3.1,1.5,0.1,Iris-setosa',\n",
       " '5.4,3.7,1.5,0.2,Iris-setosa',\n",
       " '4.8,3.4,1.6,0.2,Iris-setosa',\n",
       " '4.8,3.0,1.4,0.1,Iris-setosa',\n",
       " '4.3,3.0,1.1,0.1,Iris-setosa',\n",
       " '5.8,4.0,1.2,0.2,Iris-setosa',\n",
       " '5.7,4.4,1.5,0.4,Iris-setosa',\n",
       " '5.4,3.9,1.3,0.4,Iris-setosa',\n",
       " '5.1,3.5,1.4,0.3,Iris-setosa',\n",
       " '5.7,3.8,1.7,0.3,Iris-setosa',\n",
       " '5.1,3.8,1.5,0.3,Iris-setosa',\n",
       " '5.4,3.4,1.7,0.2,Iris-setosa',\n",
       " '5.1,3.7,1.5,0.4,Iris-setosa',\n",
       " '4.6,3.6,1.0,0.2,Iris-setosa',\n",
       " '5.1,3.3,1.7,0.5,Iris-setosa',\n",
       " '4.8,3.4,1.9,0.2,Iris-setosa',\n",
       " '5.0,3.0,1.6,0.2,Iris-setosa',\n",
       " '5.0,3.4,1.6,0.4,Iris-setosa',\n",
       " '5.2,3.5,1.5,0.2,Iris-setosa',\n",
       " '5.2,3.4,1.4,0.2,Iris-setosa',\n",
       " '4.7,3.2,1.6,0.2,Iris-setosa',\n",
       " '4.8,3.1,1.6,0.2,Iris-setosa',\n",
       " '5.4,3.4,1.5,0.4,Iris-setosa',\n",
       " '5.2,4.1,1.5,0.1,Iris-setosa',\n",
       " '5.5,4.2,1.4,0.2,Iris-setosa',\n",
       " '4.9,3.1,1.5,0.1,Iris-setosa',\n",
       " '5.0,3.2,1.2,0.2,Iris-setosa',\n",
       " '5.5,3.5,1.3,0.2,Iris-setosa',\n",
       " '4.9,3.1,1.5,0.1,Iris-setosa',\n",
       " '4.4,3.0,1.3,0.2,Iris-setosa',\n",
       " '5.1,3.4,1.5,0.2,Iris-setosa',\n",
       " '5.0,3.5,1.3,0.3,Iris-setosa',\n",
       " '4.5,2.3,1.3,0.3,Iris-setosa',\n",
       " '4.4,3.2,1.3,0.2,Iris-setosa',\n",
       " '5.0,3.5,1.6,0.6,Iris-setosa',\n",
       " '5.1,3.8,1.9,0.4,Iris-setosa',\n",
       " '4.8,3.0,1.4,0.3,Iris-setosa',\n",
       " '5.1,3.8,1.6,0.2,Iris-setosa',\n",
       " '4.6,3.2,1.4,0.2,Iris-setosa',\n",
       " '5.3,3.7,1.5,0.2,Iris-setosa',\n",
       " '5.0,3.3,1.4,0.2,Iris-setosa',\n",
       " '7.0,3.2,4.7,1.4,Iris-versicolor',\n",
       " '6.4,3.2,4.5,1.5,Iris-versicolor',\n",
       " '6.9,3.1,4.9,1.5,Iris-versicolor',\n",
       " '5.5,2.3,4.0,1.3,Iris-versicolor',\n",
       " '6.5,2.8,4.6,1.5,Iris-versicolor',\n",
       " '5.7,2.8,4.5,1.3,Iris-versicolor',\n",
       " '6.3,3.3,4.7,1.6,Iris-versicolor',\n",
       " '4.9,2.4,3.3,1.0,Iris-versicolor',\n",
       " '6.6,2.9,4.6,1.3,Iris-versicolor',\n",
       " '5.2,2.7,3.9,1.4,Iris-versicolor',\n",
       " '5.0,2.0,3.5,1.0,Iris-versicolor',\n",
       " '5.9,3.0,4.2,1.5,Iris-versicolor',\n",
       " '6.0,2.2,4.0,1.0,Iris-versicolor',\n",
       " '6.1,2.9,4.7,1.4,Iris-versicolor',\n",
       " '5.6,2.9,3.6,1.3,Iris-versicolor',\n",
       " '6.7,3.1,4.4,1.4,Iris-versicolor',\n",
       " '5.6,3.0,4.5,1.5,Iris-versicolor',\n",
       " '5.8,2.7,4.1,1.0,Iris-versicolor',\n",
       " '6.2,2.2,4.5,1.5,Iris-versicolor',\n",
       " '5.6,2.5,3.9,1.1,Iris-versicolor',\n",
       " '5.9,3.2,4.8,1.8,Iris-versicolor',\n",
       " '6.1,2.8,4.0,1.3,Iris-versicolor',\n",
       " '6.3,2.5,4.9,1.5,Iris-versicolor',\n",
       " '6.1,2.8,4.7,1.2,Iris-versicolor',\n",
       " '6.4,2.9,4.3,1.3,Iris-versicolor',\n",
       " '6.6,3.0,4.4,1.4,Iris-versicolor',\n",
       " '6.8,2.8,4.8,1.4,Iris-versicolor',\n",
       " '6.7,3.0,5.0,1.7,Iris-versicolor',\n",
       " '6.0,2.9,4.5,1.5,Iris-versicolor',\n",
       " '5.7,2.6,3.5,1.0,Iris-versicolor',\n",
       " '5.5,2.4,3.8,1.1,Iris-versicolor',\n",
       " '5.5,2.4,3.7,1.0,Iris-versicolor',\n",
       " '5.8,2.7,3.9,1.2,Iris-versicolor',\n",
       " '6.0,2.7,5.1,1.6,Iris-versicolor',\n",
       " '5.4,3.0,4.5,1.5,Iris-versicolor',\n",
       " '6.0,3.4,4.5,1.6,Iris-versicolor',\n",
       " '6.7,3.1,4.7,1.5,Iris-versicolor',\n",
       " '6.3,2.3,4.4,1.3,Iris-versicolor',\n",
       " '5.6,3.0,4.1,1.3,Iris-versicolor',\n",
       " '5.5,2.5,4.0,1.3,Iris-versicolor',\n",
       " '5.5,2.6,4.4,1.2,Iris-versicolor',\n",
       " '6.1,3.0,4.6,1.4,Iris-versicolor',\n",
       " '5.8,2.6,4.0,1.2,Iris-versicolor',\n",
       " '5.0,2.3,3.3,1.0,Iris-versicolor',\n",
       " '5.6,2.7,4.2,1.3,Iris-versicolor',\n",
       " '5.7,3.0,4.2,1.2,Iris-versicolor',\n",
       " '5.7,2.9,4.2,1.3,Iris-versicolor',\n",
       " '6.2,2.9,4.3,1.3,Iris-versicolor',\n",
       " '5.1,2.5,3.0,1.1,Iris-versicolor',\n",
       " '5.7,2.8,4.1,1.3,Iris-versicolor',\n",
       " '6.3,3.3,6.0,2.5,Iris-virginica',\n",
       " '5.8,2.7,5.1,1.9,Iris-virginica',\n",
       " '7.1,3.0,5.9,2.1,Iris-virginica',\n",
       " '6.3,2.9,5.6,1.8,Iris-virginica',\n",
       " '6.5,3.0,5.8,2.2,Iris-virginica',\n",
       " '7.6,3.0,6.6,2.1,Iris-virginica',\n",
       " '4.9,2.5,4.5,1.7,Iris-virginica',\n",
       " '7.3,2.9,6.3,1.8,Iris-virginica',\n",
       " '6.7,2.5,5.8,1.8,Iris-virginica',\n",
       " '7.2,3.6,6.1,2.5,Iris-virginica',\n",
       " '6.5,3.2,5.1,2.0,Iris-virginica',\n",
       " '6.4,2.7,5.3,1.9,Iris-virginica',\n",
       " '6.8,3.0,5.5,2.1,Iris-virginica',\n",
       " '5.7,2.5,5.0,2.0,Iris-virginica',\n",
       " '5.8,2.8,5.1,2.4,Iris-virginica',\n",
       " '6.4,3.2,5.3,2.3,Iris-virginica',\n",
       " '6.5,3.0,5.5,1.8,Iris-virginica',\n",
       " '7.7,3.8,6.7,2.2,Iris-virginica',\n",
       " '7.7,2.6,6.9,2.3,Iris-virginica',\n",
       " '6.0,2.2,5.0,1.5,Iris-virginica',\n",
       " '6.9,3.2,5.7,2.3,Iris-virginica',\n",
       " '5.6,2.8,4.9,2.0,Iris-virginica',\n",
       " '7.7,2.8,6.7,2.0,Iris-virginica',\n",
       " '6.3,2.7,4.9,1.8,Iris-virginica',\n",
       " '6.7,3.3,5.7,2.1,Iris-virginica',\n",
       " '7.2,3.2,6.0,1.8,Iris-virginica',\n",
       " '6.2,2.8,4.8,1.8,Iris-virginica',\n",
       " '6.1,3.0,4.9,1.8,Iris-virginica',\n",
       " '6.4,2.8,5.6,2.1,Iris-virginica',\n",
       " '7.2,3.0,5.8,1.6,Iris-virginica',\n",
       " '7.4,2.8,6.1,1.9,Iris-virginica',\n",
       " '7.9,3.8,6.4,2.0,Iris-virginica',\n",
       " '6.4,2.8,5.6,2.2,Iris-virginica',\n",
       " '6.3,2.8,5.1,1.5,Iris-virginica',\n",
       " '6.1,2.6,5.6,1.4,Iris-virginica',\n",
       " '7.7,3.0,6.1,2.3,Iris-virginica',\n",
       " '6.3,3.4,5.6,2.4,Iris-virginica',\n",
       " '6.4,3.1,5.5,1.8,Iris-virginica',\n",
       " '6.0,3.0,4.8,1.8,Iris-virginica',\n",
       " '6.9,3.1,5.4,2.1,Iris-virginica',\n",
       " '6.7,3.1,5.6,2.4,Iris-virginica',\n",
       " '6.9,3.1,5.1,2.3,Iris-virginica',\n",
       " '5.8,2.7,5.1,1.9,Iris-virginica',\n",
       " '6.8,3.2,5.9,2.3,Iris-virginica',\n",
       " '6.7,3.3,5.7,2.5,Iris-virginica',\n",
       " '6.7,3.0,5.2,2.3,Iris-virginica',\n",
       " '6.3,2.5,5.0,1.9,Iris-virginica',\n",
       " '6.5,3.0,5.2,2.0,Iris-virginica',\n",
       " '6.2,3.4,5.4,2.3,Iris-virginica',\n",
       " '5.9,3.0,5.1,1.8,Iris-virginica',\n",
       " '']"
      ]
     },
     "execution_count": 4,
     "metadata": {},
     "output_type": "execute_result"
    }
   ],
   "source": [
    "import urllib.request\n",
    "import re\n",
    "\n",
    "url = r'https://archive.ics.uci.edu/ml/machine-learning-databases/iris/iris.data'\n",
    "\n",
    "iris = [line.decode('utf-8').strip() for line in urllib.request.urlopen(url)]\n",
    "\n",
    "iris"
   ]
  },
  {
   "cell_type": "code",
   "execution_count": 5,
   "metadata": {},
   "outputs": [],
   "source": [
    "strip_iris = re.compile(r'([0-9]\\.[0-9]),([0-9]\\.[0-9]),([0-9]\\.[0-9]),([0-9]\\.[0-9]),Iris-([a-z]+)')"
   ]
  },
  {
   "cell_type": "code",
   "execution_count": 6,
   "metadata": {},
   "outputs": [
    {
     "data": {
      "text/plain": [
       "['setosa,0.2,1.4,3.5,5.1',\n",
       " 'setosa,0.2,1.4,3.0,4.9',\n",
       " 'setosa,0.2,1.3,3.2,4.7',\n",
       " 'setosa,0.2,1.5,3.1,4.6',\n",
       " 'setosa,0.2,1.4,3.6,5.0',\n",
       " 'setosa,0.4,1.7,3.9,5.4',\n",
       " 'setosa,0.3,1.4,3.4,4.6',\n",
       " 'setosa,0.2,1.5,3.4,5.0',\n",
       " 'setosa,0.2,1.4,2.9,4.4',\n",
       " 'setosa,0.1,1.5,3.1,4.9',\n",
       " 'setosa,0.2,1.5,3.7,5.4',\n",
       " 'setosa,0.2,1.6,3.4,4.8',\n",
       " 'setosa,0.1,1.4,3.0,4.8',\n",
       " 'setosa,0.1,1.1,3.0,4.3',\n",
       " 'setosa,0.2,1.2,4.0,5.8',\n",
       " 'setosa,0.4,1.5,4.4,5.7',\n",
       " 'setosa,0.4,1.3,3.9,5.4',\n",
       " 'setosa,0.3,1.4,3.5,5.1',\n",
       " 'setosa,0.3,1.7,3.8,5.7',\n",
       " 'setosa,0.3,1.5,3.8,5.1',\n",
       " 'setosa,0.2,1.7,3.4,5.4',\n",
       " 'setosa,0.4,1.5,3.7,5.1',\n",
       " 'setosa,0.2,1.0,3.6,4.6',\n",
       " 'setosa,0.5,1.7,3.3,5.1',\n",
       " 'setosa,0.2,1.9,3.4,4.8',\n",
       " 'setosa,0.2,1.6,3.0,5.0',\n",
       " 'setosa,0.4,1.6,3.4,5.0',\n",
       " 'setosa,0.2,1.5,3.5,5.2',\n",
       " 'setosa,0.2,1.4,3.4,5.2',\n",
       " 'setosa,0.2,1.6,3.2,4.7',\n",
       " 'setosa,0.2,1.6,3.1,4.8',\n",
       " 'setosa,0.4,1.5,3.4,5.4',\n",
       " 'setosa,0.1,1.5,4.1,5.2',\n",
       " 'setosa,0.2,1.4,4.2,5.5',\n",
       " 'setosa,0.1,1.5,3.1,4.9',\n",
       " 'setosa,0.2,1.2,3.2,5.0',\n",
       " 'setosa,0.2,1.3,3.5,5.5',\n",
       " 'setosa,0.1,1.5,3.1,4.9',\n",
       " 'setosa,0.2,1.3,3.0,4.4',\n",
       " 'setosa,0.2,1.5,3.4,5.1',\n",
       " 'setosa,0.3,1.3,3.5,5.0',\n",
       " 'setosa,0.3,1.3,2.3,4.5',\n",
       " 'setosa,0.2,1.3,3.2,4.4',\n",
       " 'setosa,0.6,1.6,3.5,5.0',\n",
       " 'setosa,0.4,1.9,3.8,5.1',\n",
       " 'setosa,0.3,1.4,3.0,4.8',\n",
       " 'setosa,0.2,1.6,3.8,5.1',\n",
       " 'setosa,0.2,1.4,3.2,4.6',\n",
       " 'setosa,0.2,1.5,3.7,5.3',\n",
       " 'setosa,0.2,1.4,3.3,5.0',\n",
       " 'versicolor,1.4,4.7,3.2,7.0',\n",
       " 'versicolor,1.5,4.5,3.2,6.4',\n",
       " 'versicolor,1.5,4.9,3.1,6.9',\n",
       " 'versicolor,1.3,4.0,2.3,5.5',\n",
       " 'versicolor,1.5,4.6,2.8,6.5',\n",
       " 'versicolor,1.3,4.5,2.8,5.7',\n",
       " 'versicolor,1.6,4.7,3.3,6.3',\n",
       " 'versicolor,1.0,3.3,2.4,4.9',\n",
       " 'versicolor,1.3,4.6,2.9,6.6',\n",
       " 'versicolor,1.4,3.9,2.7,5.2',\n",
       " 'versicolor,1.0,3.5,2.0,5.0',\n",
       " 'versicolor,1.5,4.2,3.0,5.9',\n",
       " 'versicolor,1.0,4.0,2.2,6.0',\n",
       " 'versicolor,1.4,4.7,2.9,6.1',\n",
       " 'versicolor,1.3,3.6,2.9,5.6',\n",
       " 'versicolor,1.4,4.4,3.1,6.7',\n",
       " 'versicolor,1.5,4.5,3.0,5.6',\n",
       " 'versicolor,1.0,4.1,2.7,5.8',\n",
       " 'versicolor,1.5,4.5,2.2,6.2',\n",
       " 'versicolor,1.1,3.9,2.5,5.6',\n",
       " 'versicolor,1.8,4.8,3.2,5.9',\n",
       " 'versicolor,1.3,4.0,2.8,6.1',\n",
       " 'versicolor,1.5,4.9,2.5,6.3',\n",
       " 'versicolor,1.2,4.7,2.8,6.1',\n",
       " 'versicolor,1.3,4.3,2.9,6.4',\n",
       " 'versicolor,1.4,4.4,3.0,6.6',\n",
       " 'versicolor,1.4,4.8,2.8,6.8',\n",
       " 'versicolor,1.7,5.0,3.0,6.7',\n",
       " 'versicolor,1.5,4.5,2.9,6.0',\n",
       " 'versicolor,1.0,3.5,2.6,5.7',\n",
       " 'versicolor,1.1,3.8,2.4,5.5',\n",
       " 'versicolor,1.0,3.7,2.4,5.5',\n",
       " 'versicolor,1.2,3.9,2.7,5.8',\n",
       " 'versicolor,1.6,5.1,2.7,6.0',\n",
       " 'versicolor,1.5,4.5,3.0,5.4',\n",
       " 'versicolor,1.6,4.5,3.4,6.0',\n",
       " 'versicolor,1.5,4.7,3.1,6.7',\n",
       " 'versicolor,1.3,4.4,2.3,6.3',\n",
       " 'versicolor,1.3,4.1,3.0,5.6',\n",
       " 'versicolor,1.3,4.0,2.5,5.5',\n",
       " 'versicolor,1.2,4.4,2.6,5.5',\n",
       " 'versicolor,1.4,4.6,3.0,6.1',\n",
       " 'versicolor,1.2,4.0,2.6,5.8',\n",
       " 'versicolor,1.0,3.3,2.3,5.0',\n",
       " 'versicolor,1.3,4.2,2.7,5.6',\n",
       " 'versicolor,1.2,4.2,3.0,5.7',\n",
       " 'versicolor,1.3,4.2,2.9,5.7',\n",
       " 'versicolor,1.3,4.3,2.9,6.2',\n",
       " 'versicolor,1.1,3.0,2.5,5.1',\n",
       " 'versicolor,1.3,4.1,2.8,5.7',\n",
       " 'virginica,2.5,6.0,3.3,6.3',\n",
       " 'virginica,1.9,5.1,2.7,5.8',\n",
       " 'virginica,2.1,5.9,3.0,7.1',\n",
       " 'virginica,1.8,5.6,2.9,6.3',\n",
       " 'virginica,2.2,5.8,3.0,6.5',\n",
       " 'virginica,2.1,6.6,3.0,7.6',\n",
       " 'virginica,1.7,4.5,2.5,4.9',\n",
       " 'virginica,1.8,6.3,2.9,7.3',\n",
       " 'virginica,1.8,5.8,2.5,6.7',\n",
       " 'virginica,2.5,6.1,3.6,7.2',\n",
       " 'virginica,2.0,5.1,3.2,6.5',\n",
       " 'virginica,1.9,5.3,2.7,6.4',\n",
       " 'virginica,2.1,5.5,3.0,6.8',\n",
       " 'virginica,2.0,5.0,2.5,5.7',\n",
       " 'virginica,2.4,5.1,2.8,5.8',\n",
       " 'virginica,2.3,5.3,3.2,6.4',\n",
       " 'virginica,1.8,5.5,3.0,6.5',\n",
       " 'virginica,2.2,6.7,3.8,7.7',\n",
       " 'virginica,2.3,6.9,2.6,7.7',\n",
       " 'virginica,1.5,5.0,2.2,6.0',\n",
       " 'virginica,2.3,5.7,3.2,6.9',\n",
       " 'virginica,2.0,4.9,2.8,5.6',\n",
       " 'virginica,2.0,6.7,2.8,7.7',\n",
       " 'virginica,1.8,4.9,2.7,6.3',\n",
       " 'virginica,2.1,5.7,3.3,6.7',\n",
       " 'virginica,1.8,6.0,3.2,7.2',\n",
       " 'virginica,1.8,4.8,2.8,6.2',\n",
       " 'virginica,1.8,4.9,3.0,6.1',\n",
       " 'virginica,2.1,5.6,2.8,6.4',\n",
       " 'virginica,1.6,5.8,3.0,7.2',\n",
       " 'virginica,1.9,6.1,2.8,7.4',\n",
       " 'virginica,2.0,6.4,3.8,7.9',\n",
       " 'virginica,2.2,5.6,2.8,6.4',\n",
       " 'virginica,1.5,5.1,2.8,6.3',\n",
       " 'virginica,1.4,5.6,2.6,6.1',\n",
       " 'virginica,2.3,6.1,3.0,7.7',\n",
       " 'virginica,2.4,5.6,3.4,6.3',\n",
       " 'virginica,1.8,5.5,3.1,6.4',\n",
       " 'virginica,1.8,4.8,3.0,6.0',\n",
       " 'virginica,2.1,5.4,3.1,6.9',\n",
       " 'virginica,2.4,5.6,3.1,6.7',\n",
       " 'virginica,2.3,5.1,3.1,6.9',\n",
       " 'virginica,1.9,5.1,2.7,5.8',\n",
       " 'virginica,2.3,5.9,3.2,6.8',\n",
       " 'virginica,2.5,5.7,3.3,6.7',\n",
       " 'virginica,2.3,5.2,3.0,6.7',\n",
       " 'virginica,1.9,5.0,2.5,6.3',\n",
       " 'virginica,2.0,5.2,3.0,6.5',\n",
       " 'virginica,2.3,5.4,3.4,6.2',\n",
       " 'virginica,1.8,5.1,3.0,5.9']"
      ]
     },
     "execution_count": 6,
     "metadata": {},
     "output_type": "execute_result"
    }
   ],
   "source": [
    "[strip_iris.sub(r'\\5,\\4,\\3,\\2,\\1', line) for line in iris if line]"
   ]
  },
  {
   "cell_type": "code",
   "execution_count": null,
   "metadata": {},
   "outputs": [],
   "source": []
  },
  {
   "cell_type": "markdown",
   "metadata": {},
   "source": [
    "### Exercise 2:"
   ]
  },
  {
   "cell_type": "markdown",
   "metadata": {},
   "source": [
    "Adapt the above code to capitalise the first letter of the iris species, using regular expressions."
   ]
  },
  {
   "cell_type": "code",
   "execution_count": 33,
   "metadata": {},
   "outputs": [],
   "source": [
    "strip_iris = re.compile(r'([0-9]\\.[0-9]),([0-9]\\.[0-9]),([0-9]\\.[0-9]),([0-9]\\.[0-9]),Iris-([a-z]+)')"
   ]
  },
  {
   "cell_type": "code",
   "execution_count": 34,
   "metadata": {},
   "outputs": [
    {
     "data": {
      "text/plain": [
       "['Setosa,0.2,1.4,3.5,5.1',\n",
       " 'Setosa,0.2,1.4,3.0,4.9',\n",
       " 'Setosa,0.2,1.3,3.2,4.7',\n",
       " 'Setosa,0.2,1.5,3.1,4.6',\n",
       " 'Setosa,0.2,1.4,3.6,5.0',\n",
       " 'Setosa,0.4,1.7,3.9,5.4',\n",
       " 'Setosa,0.3,1.4,3.4,4.6',\n",
       " 'Setosa,0.2,1.5,3.4,5.0',\n",
       " 'Setosa,0.2,1.4,2.9,4.4',\n",
       " 'Setosa,0.1,1.5,3.1,4.9',\n",
       " 'Setosa,0.2,1.5,3.7,5.4',\n",
       " 'Setosa,0.2,1.6,3.4,4.8',\n",
       " 'Setosa,0.1,1.4,3.0,4.8',\n",
       " 'Setosa,0.1,1.1,3.0,4.3',\n",
       " 'Setosa,0.2,1.2,4.0,5.8',\n",
       " 'Setosa,0.4,1.5,4.4,5.7',\n",
       " 'Setosa,0.4,1.3,3.9,5.4',\n",
       " 'Setosa,0.3,1.4,3.5,5.1',\n",
       " 'Setosa,0.3,1.7,3.8,5.7',\n",
       " 'Setosa,0.3,1.5,3.8,5.1',\n",
       " 'Setosa,0.2,1.7,3.4,5.4',\n",
       " 'Setosa,0.4,1.5,3.7,5.1',\n",
       " 'Setosa,0.2,1.0,3.6,4.6',\n",
       " 'Setosa,0.5,1.7,3.3,5.1',\n",
       " 'Setosa,0.2,1.9,3.4,4.8',\n",
       " 'Setosa,0.2,1.6,3.0,5.0',\n",
       " 'Setosa,0.4,1.6,3.4,5.0',\n",
       " 'Setosa,0.2,1.5,3.5,5.2',\n",
       " 'Setosa,0.2,1.4,3.4,5.2',\n",
       " 'Setosa,0.2,1.6,3.2,4.7',\n",
       " 'Setosa,0.2,1.6,3.1,4.8',\n",
       " 'Setosa,0.4,1.5,3.4,5.4',\n",
       " 'Setosa,0.1,1.5,4.1,5.2',\n",
       " 'Setosa,0.2,1.4,4.2,5.5',\n",
       " 'Setosa,0.1,1.5,3.1,4.9',\n",
       " 'Setosa,0.2,1.2,3.2,5.0',\n",
       " 'Setosa,0.2,1.3,3.5,5.5',\n",
       " 'Setosa,0.1,1.5,3.1,4.9',\n",
       " 'Setosa,0.2,1.3,3.0,4.4',\n",
       " 'Setosa,0.2,1.5,3.4,5.1',\n",
       " 'Setosa,0.3,1.3,3.5,5.0',\n",
       " 'Setosa,0.3,1.3,2.3,4.5',\n",
       " 'Setosa,0.2,1.3,3.2,4.4',\n",
       " 'Setosa,0.6,1.6,3.5,5.0',\n",
       " 'Setosa,0.4,1.9,3.8,5.1',\n",
       " 'Setosa,0.3,1.4,3.0,4.8',\n",
       " 'Setosa,0.2,1.6,3.8,5.1',\n",
       " 'Setosa,0.2,1.4,3.2,4.6',\n",
       " 'Setosa,0.2,1.5,3.7,5.3',\n",
       " 'Setosa,0.2,1.4,3.3,5.0',\n",
       " 'Versicolor,1.4,4.7,3.2,7.0',\n",
       " 'Versicolor,1.5,4.5,3.2,6.4',\n",
       " 'Versicolor,1.5,4.9,3.1,6.9',\n",
       " 'Versicolor,1.3,4.0,2.3,5.5',\n",
       " 'Versicolor,1.5,4.6,2.8,6.5',\n",
       " 'Versicolor,1.3,4.5,2.8,5.7',\n",
       " 'Versicolor,1.6,4.7,3.3,6.3',\n",
       " 'Versicolor,1.0,3.3,2.4,4.9',\n",
       " 'Versicolor,1.3,4.6,2.9,6.6',\n",
       " 'Versicolor,1.4,3.9,2.7,5.2',\n",
       " 'Versicolor,1.0,3.5,2.0,5.0',\n",
       " 'Versicolor,1.5,4.2,3.0,5.9',\n",
       " 'Versicolor,1.0,4.0,2.2,6.0',\n",
       " 'Versicolor,1.4,4.7,2.9,6.1',\n",
       " 'Versicolor,1.3,3.6,2.9,5.6',\n",
       " 'Versicolor,1.4,4.4,3.1,6.7',\n",
       " 'Versicolor,1.5,4.5,3.0,5.6',\n",
       " 'Versicolor,1.0,4.1,2.7,5.8',\n",
       " 'Versicolor,1.5,4.5,2.2,6.2',\n",
       " 'Versicolor,1.1,3.9,2.5,5.6',\n",
       " 'Versicolor,1.8,4.8,3.2,5.9',\n",
       " 'Versicolor,1.3,4.0,2.8,6.1',\n",
       " 'Versicolor,1.5,4.9,2.5,6.3',\n",
       " 'Versicolor,1.2,4.7,2.8,6.1',\n",
       " 'Versicolor,1.3,4.3,2.9,6.4',\n",
       " 'Versicolor,1.4,4.4,3.0,6.6',\n",
       " 'Versicolor,1.4,4.8,2.8,6.8',\n",
       " 'Versicolor,1.7,5.0,3.0,6.7',\n",
       " 'Versicolor,1.5,4.5,2.9,6.0',\n",
       " 'Versicolor,1.0,3.5,2.6,5.7',\n",
       " 'Versicolor,1.1,3.8,2.4,5.5',\n",
       " 'Versicolor,1.0,3.7,2.4,5.5',\n",
       " 'Versicolor,1.2,3.9,2.7,5.8',\n",
       " 'Versicolor,1.6,5.1,2.7,6.0',\n",
       " 'Versicolor,1.5,4.5,3.0,5.4',\n",
       " 'Versicolor,1.6,4.5,3.4,6.0',\n",
       " 'Versicolor,1.5,4.7,3.1,6.7',\n",
       " 'Versicolor,1.3,4.4,2.3,6.3',\n",
       " 'Versicolor,1.3,4.1,3.0,5.6',\n",
       " 'Versicolor,1.3,4.0,2.5,5.5',\n",
       " 'Versicolor,1.2,4.4,2.6,5.5',\n",
       " 'Versicolor,1.4,4.6,3.0,6.1',\n",
       " 'Versicolor,1.2,4.0,2.6,5.8',\n",
       " 'Versicolor,1.0,3.3,2.3,5.0',\n",
       " 'Versicolor,1.3,4.2,2.7,5.6',\n",
       " 'Versicolor,1.2,4.2,3.0,5.7',\n",
       " 'Versicolor,1.3,4.2,2.9,5.7',\n",
       " 'Versicolor,1.3,4.3,2.9,6.2',\n",
       " 'Versicolor,1.1,3.0,2.5,5.1',\n",
       " 'Versicolor,1.3,4.1,2.8,5.7',\n",
       " 'Virginica,2.5,6.0,3.3,6.3',\n",
       " 'Virginica,1.9,5.1,2.7,5.8',\n",
       " 'Virginica,2.1,5.9,3.0,7.1',\n",
       " 'Virginica,1.8,5.6,2.9,6.3',\n",
       " 'Virginica,2.2,5.8,3.0,6.5',\n",
       " 'Virginica,2.1,6.6,3.0,7.6',\n",
       " 'Virginica,1.7,4.5,2.5,4.9',\n",
       " 'Virginica,1.8,6.3,2.9,7.3',\n",
       " 'Virginica,1.8,5.8,2.5,6.7',\n",
       " 'Virginica,2.5,6.1,3.6,7.2',\n",
       " 'Virginica,2.0,5.1,3.2,6.5',\n",
       " 'Virginica,1.9,5.3,2.7,6.4',\n",
       " 'Virginica,2.1,5.5,3.0,6.8',\n",
       " 'Virginica,2.0,5.0,2.5,5.7',\n",
       " 'Virginica,2.4,5.1,2.8,5.8',\n",
       " 'Virginica,2.3,5.3,3.2,6.4',\n",
       " 'Virginica,1.8,5.5,3.0,6.5',\n",
       " 'Virginica,2.2,6.7,3.8,7.7',\n",
       " 'Virginica,2.3,6.9,2.6,7.7',\n",
       " 'Virginica,1.5,5.0,2.2,6.0',\n",
       " 'Virginica,2.3,5.7,3.2,6.9',\n",
       " 'Virginica,2.0,4.9,2.8,5.6',\n",
       " 'Virginica,2.0,6.7,2.8,7.7',\n",
       " 'Virginica,1.8,4.9,2.7,6.3',\n",
       " 'Virginica,2.1,5.7,3.3,6.7',\n",
       " 'Virginica,1.8,6.0,3.2,7.2',\n",
       " 'Virginica,1.8,4.8,2.8,6.2',\n",
       " 'Virginica,1.8,4.9,3.0,6.1',\n",
       " 'Virginica,2.1,5.6,2.8,6.4',\n",
       " 'Virginica,1.6,5.8,3.0,7.2',\n",
       " 'Virginica,1.9,6.1,2.8,7.4',\n",
       " 'Virginica,2.0,6.4,3.8,7.9',\n",
       " 'Virginica,2.2,5.6,2.8,6.4',\n",
       " 'Virginica,1.5,5.1,2.8,6.3',\n",
       " 'Virginica,1.4,5.6,2.6,6.1',\n",
       " 'Virginica,2.3,6.1,3.0,7.7',\n",
       " 'Virginica,2.4,5.6,3.4,6.3',\n",
       " 'Virginica,1.8,5.5,3.1,6.4',\n",
       " 'Virginica,1.8,4.8,3.0,6.0',\n",
       " 'Virginica,2.1,5.4,3.1,6.9',\n",
       " 'Virginica,2.4,5.6,3.1,6.7',\n",
       " 'Virginica,2.3,5.1,3.1,6.9',\n",
       " 'Virginica,1.9,5.1,2.7,5.8',\n",
       " 'Virginica,2.3,5.9,3.2,6.8',\n",
       " 'Virginica,2.5,5.7,3.3,6.7',\n",
       " 'Virginica,2.3,5.2,3.0,6.7',\n",
       " 'Virginica,1.9,5.0,2.5,6.3',\n",
       " 'Virginica,2.0,5.2,3.0,6.5',\n",
       " 'Virginica,2.3,5.4,3.4,6.2',\n",
       " 'Virginica,1.8,5.1,3.0,5.9']"
      ]
     },
     "execution_count": 34,
     "metadata": {},
     "output_type": "execute_result"
    }
   ],
   "source": [
    "[strip_iris.sub(r'\\5,\\4,\\3,\\2,\\1', line)[0].upper() + strip_iris.sub(r'\\5,\\4,\\3,\\2,\\1', line)[1:] for line in iris if line]"
   ]
  },
  {
   "cell_type": "code",
   "execution_count": null,
   "metadata": {},
   "outputs": [],
   "source": []
  },
  {
   "cell_type": "code",
   "execution_count": null,
   "metadata": {},
   "outputs": [],
   "source": []
  }
 ],
 "metadata": {
  "kernelspec": {
   "display_name": "Python 3",
   "language": "python",
   "name": "python3"
  },
  "language_info": {
   "codemirror_mode": {
    "name": "ipython",
    "version": 3
   },
   "file_extension": ".py",
   "mimetype": "text/x-python",
   "name": "python",
   "nbconvert_exporter": "python",
   "pygments_lexer": "ipython3",
   "version": "3.8.3"
  }
 },
 "nbformat": 4,
 "nbformat_minor": 4
}
